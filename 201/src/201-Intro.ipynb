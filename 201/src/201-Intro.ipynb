{
  "nbformat": 4,
  "nbformat_minor": 0,
  "metadata": {
    "kernelspec": {
      "display_name": "Python 3",
      "language": "python",
      "name": "python3"
    },
    "language_info": {
      "codemirror_mode": {
        "name": "ipython",
        "version": 3
      },
      "file_extension": ".py",
      "mimetype": "text/x-python",
      "name": "python",
      "nbconvert_exporter": "python",
      "pygments_lexer": "ipython3",
      "version": "3.7.9"
    },
    "colab": {
      "name": "201-Intro.ipynb",
      "provenance": []
    }
  },
  "cells": [
    {
      "cell_type": "markdown",
      "metadata": {
        "id": "H5RYrb2W8_Ke"
      },
      "source": [
        "![Logo 201](https://raw.githubusercontent.com/Strojove-uceni/cviceni_vyvoj/main/img/201.png?token=AJCHSZBLC3FOZBMFV5UQQSDA5QEC2)\n",
        "\n",
        "## About us\n",
        "\n",
        "In the course Machine learning 2, we are going to take a step into the world of deep learning using PyTorch. \n",
        "\n",
        "---\n",
        "\n",
        "**Author:** John Nojh\n",
        "\n",
        "**Course website:** [např. www.ml2.cz](www.ml2.cz)\n"
      ]
    },
    {
      "cell_type": "markdown",
      "metadata": {
        "id": "4L1rnvEYDriA"
      },
      "source": [
        "## Lesson overview"
      ]
    },
    {
      "cell_type": "markdown",
      "metadata": {
        "id": "bj7D6NFZEEWv"
      },
      "source": [
        "**What**\n",
        "\n",
        "You will learn how to use [GitHub](https://github.com/) and [Colab](https://colab.research.google.com/) and understand the basics in the [deep learning](https://www.deeplearningbook.org/) and deep learning framework [PyTorch](https://pytorch.org/).\n",
        "\n",
        "**What for**\n",
        "\n",
        "After completing this lesson, you will get familiar with the necessary tools for finishing all labs, understand how to obtain a course credit, and will be able to explain basic concepts in deep learning and PyTorch.\n",
        "\n",
        "**So what**\n",
        "\n",
        "[Baby filter on Friends](https://www.youtube.com/watch?v=4FfMY2S5MTs)\n",
        "\n",
        "**Now what**\n",
        "\n",
        "* First part\n",
        "  * Labs' orientation\n",
        "  * Final project information\n",
        "  * Requirements: GitHub, Colab, Python\n",
        "  * Deep learning introduction\n",
        "  * Linear regression\n",
        "  * Logistic regression\n",
        "* Second part\n",
        "  * Pytorch intro & basics\n",
        "  * Tensors\n",
        "  * Autograd\n",
        "\n",
        "Estimated time needed: <strong>200 min</strong>\n",
        "\n",
        "**What next**\n",
        "\n",
        "Training image classification neural networks in PyTorch."
      ]
    },
    {
      "cell_type": "markdown",
      "metadata": {
        "id": "9TYp2JTGEd-g"
      },
      "source": [
        "## Labs' orientation"
      ]
    },
    {
      "cell_type": "markdown",
      "metadata": {
        "id": "4RV4BO6tEa33"
      },
      "source": [
        "### Attendence\n",
        "6 four hour lessons, absence max 33% (2 lessons). Last lesson mandatory for all students.\n",
        "### Github\n",
        "### Colab\n",
        "* [How to use colab](https://colab.research.google.com/notebooks/basic_features_overview.ipynb#scrollTo=aro-UJgUQSH1)\n",
        "\n",
        "### Python\n",
        "* [FJFI Python Tutorial](https://coobas.gitlab.io/python-fjfi/)\n",
        "* [Introduction to Python](https://pythonprogramming.net/introduction-learn-python-3-tutorials/)\n",
        "* [Intermediate Python Programming introduction](https://pythonprogramming.net/introduction-intermediate-python-tutorial/)\n",
        "* [Sharpen your python skills on CodeWars](https://www.codewars.com)\n",
        "\n",
        "### Final project information"
      ]
    },
    {
      "cell_type": "markdown",
      "metadata": {
        "id": "zOJYujUrFfOv"
      },
      "source": [
        "# Deep learning introduction"
      ]
    },
    {
      "cell_type": "markdown",
      "metadata": {
        "id": "Zx8ReAeVFpvH"
      },
      "source": [
        "## Linear regression\n",
        "## Logistic regression"
      ]
    },
    {
      "cell_type": "markdown",
      "metadata": {
        "id": "jB3nnDeFFtoA"
      },
      "source": [
        "# Pytorch intro & basics"
      ]
    }
  ]
}